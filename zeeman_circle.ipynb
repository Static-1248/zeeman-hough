{
 "cells": [
  {
   "cell_type": "code",
   "execution_count": 2,
   "id": "9c40ff53",
   "metadata": {},
   "outputs": [],
   "source": [
    "# imports\n",
    "\n",
    "import cv2\n",
    "import numpy as np"
   ]
  },
  {
   "cell_type": "code",
   "execution_count": null,
   "id": "1613482d",
   "metadata": {},
   "outputs": [],
   "source": [
    "# 创建一个简单的黑色图像\n",
    "image = np.zeros((500, 500, 3), dtype=\"uint8\")\n",
    "\n",
    "# 在图像上绘制一个白色圆环\n",
    "center_coordinates = (250, 250)  # 圆心坐标\n",
    "radius = 100  # 半径\n",
    "color = (255, 255, 255)  # 白色\n",
    "thickness = 2  # 圆环线条粗细\n",
    "cv2.circle(image, center_coordinates, radius, color, thickness)\n",
    "\n",
    "# 显示图像\n",
    "cv2.imshow(\"Zeeman Circle\", image)\n",
    "cv2.waitKey(0)\n",
    "cv2.destroyAllWindows()"
   ]
  },
  {
   "cell_type": "code",
   "execution_count": null,
   "id": "8e977070",
   "metadata": {},
   "outputs": [],
   "source": [
    "# 创建另一个示例图像 - 检测圆形\n",
    "# 创建一个灰度图像\n",
    "gray_image = np.zeros((500, 500), dtype=\"uint8\")\n",
    "\n",
    "# 绘制一个白色实心圆\n",
    "cv2.circle(gray_image, (250, 250), 100, 255, -1)\n",
    "\n",
    "# 使用霍夫变换检测圆形\n",
    "circles = cv2.HoughCircles(\n",
    "    gray_image,\n",
    "    cv2.HOUGH_GRADIENT,\n",
    "    dp=1,\n",
    "    minDist=50,\n",
    "    param1=50,\n",
    "    param2=30,\n",
    "    minRadius=80,\n",
    "    maxRadius=120\n",
    ")\n",
    "\n",
    "# 转换为彩色图像以便绘制彩色圆形\n",
    "result_image = cv2.cvtColor(gray_image, cv2.COLOR_GRAY2BGR)\n",
    "\n",
    "# 绘制检测到的圆形\n",
    "if circles is not None:\n",
    "    circles = np.uint16(np.around(circles))\n",
    "    for circle in circles[0, :]:\n",
    "        # 圆心\n",
    "        center = (circle[0], circle[1])\n",
    "        # 半径\n",
    "        radius = circle[2]\n",
    "        # 绘制圆心\n",
    "        cv2.circle(result_image, center, 3, (0, 255, 0), -1)\n",
    "        # 绘制圆周\n",
    "        cv2.circle(result_image, center, radius, (0, 0, 255), 3)\n",
    "\n",
    "# 显示结果\n",
    "cv2.imshow(\"Detected Circles\", result_image)\n",
    "cv2.waitKey(0)\n",
    "cv2.destroyAllWindows()\n",
    "\n",
    "print(f\"检测到的圆形数量: {0 if circles is None else len(circles[0])}\")\n",
    "print(f\"检测到的圆形参数: {circles[0] if circles is not None else 'None'}\")"
   ]
  }
 ],
 "metadata": {
  "kernelspec": {
   "display_name": "phylab25xd",
   "language": "python",
   "name": "python3"
  },
  "language_info": {
   "codemirror_mode": {
    "name": "ipython",
    "version": 3
   },
   "file_extension": ".py",
   "mimetype": "text/x-python",
   "name": "python",
   "nbconvert_exporter": "python",
   "pygments_lexer": "ipython3",
   "version": "3.13.3"
  }
 },
 "nbformat": 4,
 "nbformat_minor": 5
}
